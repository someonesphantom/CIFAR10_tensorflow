{
 "cells": [
  {
   "cell_type": "markdown",
   "metadata": {},
   "source": [
    "CIFAR10 "
   ]
  },
  {
   "cell_type": "code",
   "execution_count": 1,
   "metadata": {},
   "outputs": [
    {
     "name": "stderr",
     "output_type": "stream",
     "text": [
      "/Users/venkat/anaconda3/lib/python3.7/site-packages/statsmodels/tools/_testing.py:19: FutureWarning: pandas.util.testing is deprecated. Use the functions in the public API at pandas.testing instead.\n",
      "  import pandas.util.testing as tm\n"
     ]
    },
    {
     "name": "stdout",
     "output_type": "stream",
     "text": [
      "2.7.0\n"
     ]
    }
   ],
   "source": [
    "import tensorflow as tf\n",
    "import seaborn as sns\n",
    "import numpy as np\n",
    "import pandas as pd\n",
    "import matplotlib.pyplot as plt\n",
    "import matplotlib.image as mpimg\n",
    "import itertools\n",
    "import warnings\n",
    "import os\n",
    "os.environ['TF_CPP_MIN_LOG_LEVEL'] = '3' \n",
    "warnings.simplefilter(action='ignore', category=FutureWarning)\n",
    "print(tf.__version__)"
   ]
  },
  {
   "cell_type": "markdown",
   "metadata": {},
   "source": [
    "Loading dataset"
   ]
  },
  {
   "cell_type": "code",
   "execution_count": 2,
   "metadata": {},
   "outputs": [],
   "source": [
    "cifar10 = tf.keras.datasets.cifar10\n",
    "(x_train, y_train), (x_test, y_test) = cifar10.load_data()"
   ]
  },
  {
   "cell_type": "code",
   "execution_count": 3,
   "metadata": {},
   "outputs": [],
   "source": [
    "y_train = y_train.flatten()\n",
    "y_test = y_test.flatten()"
   ]
  },
  {
   "cell_type": "code",
   "execution_count": 4,
   "metadata": {},
   "outputs": [
    {
     "data": {
      "text/plain": [
       "[[Text(0, 0, 'airplane'),\n",
       "  Text(0, 0, 'automobile'),\n",
       "  Text(0, 0, 'bird'),\n",
       "  Text(0, 0, 'cat'),\n",
       "  Text(0, 0, 'deer'),\n",
       "  Text(0, 0, 'dog'),\n",
       "  Text(0, 0, 'frog'),\n",
       "  Text(0, 0, 'horse'),\n",
       "  Text(0, 0, 'ship'),\n",
       "  Text(0, 0, 'truck')]]"
      ]
     },
     "execution_count": 4,
     "metadata": {},
     "output_type": "execute_result"
    },
    {
     "data": {
      "image/png": "[encoded data removed]",
      "text/plain": [
       "<Figure size 720x504 with 1 Axes>"
      ]
     },
     "metadata": {
      "needs_background": "light"
     },
     "output_type": "display_data"
    }
   ],
   "source": [
    "classes = ['airplane', 'automobile', 'bird', 'cat', 'deer', 'dog', 'frog', 'horse', 'ship', 'truck']\n",
    "\n",
    "plt.figure(figsize=(10,7))\n",
    "p = sns.countplot(y_train.flatten())\n",
    "p.set(xticklabels=classes)"
   ]
  },
  {
   "cell_type": "code",
   "execution_count": 5,
   "metadata": {},
   "outputs": [
    {
     "data": {
      "text/plain": [
       "False"
      ]
     },
     "execution_count": 5,
     "metadata": {},
     "output_type": "execute_result"
    }
   ],
   "source": [
    "np.isnan(x_train).any()\n",
    "np.isnan(x_test).any()\n"
   ]
  },
  {
   "cell_type": "markdown",
   "metadata": {},
   "source": [
    "data preprocessing"
   ]
  },
  {
   "cell_type": "code",
   "execution_count": 6,
   "metadata": {},
   "outputs": [],
   "source": [
    "input_shape = (32, 32, 3)\n",
    "\n",
    "x_train=x_train.reshape(x_train.shape[0], x_train.shape[1], x_train.shape[2], 3)\n",
    "x_train=x_train / 255.0\n",
    "x_test = x_test.reshape(x_test.shape[0], x_test.shape[1], x_test.shape[2], 3)\n",
    "x_test=x_test / 255.0"
   ]
  },
  {
   "cell_type": "code",
   "execution_count": 7,
   "metadata": {},
   "outputs": [],
   "source": [
    "y_train = tf.one_hot(y_train.astype(np.int32), depth=10)\n",
    "y_test = tf.one_hot(y_test.astype(np.int32), depth=10)"
   ]
  },
  {
   "cell_type": "code",
   "execution_count": 8,
   "metadata": {},
   "outputs": [
    {
     "name": "stdout",
     "output_type": "stream",
     "text": [
      "tf.Tensor([0. 0. 0. 0. 0. 0. 0. 0. 1. 0.], shape=(10,), dtype=float32)\n"
     ]
    },
    {
     "data": {
      "image/png": "[encoded data removed]",
      "text/plain": [
       "<Figure size 432x288 with 1 Axes>"
      ]
     },
     "metadata": {
      "needs_background": "light"
     },
     "output_type": "display_data"
    }
   ],
   "source": [
    "y_train[0]\n",
    "\n",
    "plt.imshow(x_train[100])\n",
    "print(y_train[100])"
   ]
  },
  {
   "cell_type": "markdown",
   "metadata": {},
   "source": [
    "building the model"
   ]
  },
  {
   "cell_type": "code",
   "execution_count": 10,
   "metadata": {},
   "outputs": [],
   "source": [
    "batch_size = 256\n",
    "num_classes = 10\n",
    "epochs = 50\n",
    "\n",
    "model = tf.keras.models.Sequential([\n",
    "    \n",
    "    tf.keras.layers.Conv2D(32, 3, padding='same', input_shape=x_train.shape[1:], activation='relu'),\n",
    "    tf.keras.layers.Conv2D(32, 3, activation='relu'),\n",
    "    tf.keras.layers.MaxPooling2D(),\n",
    "    tf.keras.layers.Dropout(0.25),\n",
    "\n",
    "    tf.keras.layers.Conv2D(64, 3, padding='same', activation='relu'),\n",
    "    tf.keras.layers.Conv2D(64, 3, activation='relu'),\n",
    "    tf.keras.layers.MaxPooling2D(),\n",
    "    tf.keras.layers.Dropout(0.25),\n",
    "\n",
    "    tf.keras.layers.Conv2D(128, 3, padding='same', activation='relu'),\n",
    "    tf.keras.layers.Conv2D(128, 3, activation='relu'),\n",
    "    tf.keras.layers.MaxPooling2D(),\n",
    "    tf.keras.layers.Dropout(0.25),\n",
    "\n",
    "    tf.keras.layers.Flatten(),\n",
    "    tf.keras.layers.Dense(512, activation='relu'),\n",
    "    tf.keras.layers.Dropout(0.5),\n",
    "    tf.keras.layers.Dense(num_classes, activation='softmax'),\n",
    "])\n",
    "\n",
    "model.compile(optimizer=tf.keras.optimizers.RMSprop(learning_rate=0.0001),\n",
    "            loss='categorical_crossentropy', metrics=['acc'])"
   ]
  },
  {
   "cell_type": "markdown",
   "metadata": {},
   "source": [
    "training the model"
   ]
  },
  {
   "cell_type": "code",
   "execution_count": 11,
   "metadata": {},
   "outputs": [
    {
     "name": "stdout",
     "output_type": "stream",
     "text": [
      "Epoch 1/50\n",
      "WARNING:tensorflow:AutoGraph could not transform <function Model.make_train_function.<locals>.train_function at 0x7fc4cb790f28> and will run it as-is.\n",
      "Please report this to the TensorFlow team. When filing the bug, set the verbosity to 10 (on Linux, `export AUTOGRAPH_VERBOSITY=10`) and attach the full output.\n",
      "Cause: 'arguments' object has no attribute 'posonlyargs'\n",
      "To silence this warning, decorate the function with @tf.autograph.experimental.do_not_convert\n",
      "WARNING: AutoGraph could not transform <function Model.make_train_function.<locals>.train_function at 0x7fc4cb790f28> and will run it as-is.\n",
      "Please report this to the TensorFlow team. When filing the bug, set the verbosity to 10 (on Linux, `export AUTOGRAPH_VERBOSITY=10`) and attach the full output.\n",
      "Cause: 'arguments' object has no attribute 'posonlyargs'\n",
      "To silence this warning, decorate the function with @tf.autograph.experimental.do_not_convert\n",
      "196/196 [==============================] - 113s 568ms/step - loss: 2.1394 - acc: 0.1843\n",
      "Epoch 2/50\n",
      "196/196 [==============================] - 113s 574ms/step - loss: 1.9302 - acc: 0.2744\n",
      "Epoch 3/50\n",
      "196/196 [==============================] - 104s 532ms/step - loss: 1.8226 - acc: 0.3261\n",
      "Epoch 4/50\n",
      "196/196 [==============================] - 100s 511ms/step - loss: 1.7536 - acc: 0.3555\n",
      "Epoch 5/50\n",
      "196/196 [==============================] - 103s 524ms/step - loss: 1.6924 - acc: 0.3838\n",
      "Epoch 6/50\n",
      "196/196 [==============================] - 99s 503ms/step - loss: 1.6401 - acc: 0.3993\n",
      "Epoch 7/50\n",
      "196/196 [==============================] - 107s 547ms/step - loss: 1.5914 - acc: 0.4187\n",
      "Epoch 8/50\n",
      "196/196 [==============================] - 100s 509ms/step - loss: 1.5496 - acc: 0.4365\n",
      "Epoch 9/50\n",
      "196/196 [==============================] - 111s 566ms/step - loss: 1.5106 - acc: 0.4485\n",
      "Epoch 10/50\n",
      "196/196 [==============================] - 98s 497ms/step - loss: 1.4777 - acc: 0.4642\n",
      "Epoch 11/50\n",
      "196/196 [==============================] - 97s 495ms/step - loss: 1.4488 - acc: 0.4733\n",
      "Epoch 12/50\n",
      "196/196 [==============================] - 96s 491ms/step - loss: 1.4247 - acc: 0.4841\n",
      "Epoch 13/50\n",
      "196/196 [==============================] - 97s 494ms/step - loss: 1.3947 - acc: 0.4965\n",
      "Epoch 14/50\n",
      "196/196 [==============================] - 98s 497ms/step - loss: 1.3674 - acc: 0.5083\n",
      "Epoch 15/50\n",
      "196/196 [==============================] - 96s 487ms/step - loss: 1.3441 - acc: 0.5169\n",
      "Epoch 16/50\n",
      "196/196 [==============================] - 100s 508ms/step - loss: 1.3172 - acc: 0.5280\n",
      "Epoch 17/50\n",
      "196/196 [==============================] - 98s 499ms/step - loss: 1.2994 - acc: 0.5329\n",
      "Epoch 18/50\n",
      "196/196 [==============================] - 106s 539ms/step - loss: 1.2751 - acc: 0.5423\n",
      "Epoch 19/50\n",
      "196/196 [==============================] - 97s 495ms/step - loss: 1.2487 - acc: 0.5528\n",
      "Epoch 20/50\n",
      "196/196 [==============================] - 96s 490ms/step - loss: 1.2306 - acc: 0.5608\n",
      "Epoch 21/50\n",
      "196/196 [==============================] - 99s 505ms/step - loss: 1.2082 - acc: 0.5714\n",
      "Epoch 22/50\n",
      "196/196 [==============================] - 96s 490ms/step - loss: 1.1950 - acc: 0.5751\n",
      "Epoch 23/50\n",
      "196/196 [==============================] - 96s 491ms/step - loss: 1.1721 - acc: 0.5835\n",
      "Epoch 24/50\n",
      "196/196 [==============================] - 97s 492ms/step - loss: 1.1547 - acc: 0.5890\n",
      "Epoch 25/50\n",
      "196/196 [==============================] - 96s 489ms/step - loss: 1.1338 - acc: 0.5965\n",
      "Epoch 26/50\n",
      "196/196 [==============================] - 96s 491ms/step - loss: 1.1206 - acc: 0.6013\n",
      "Epoch 27/50\n",
      "196/196 [==============================] - 96s 488ms/step - loss: 1.1041 - acc: 0.6113\n",
      "Epoch 28/50\n",
      "196/196 [==============================] - 98s 498ms/step - loss: 1.0847 - acc: 0.6158\n",
      "Epoch 29/50\n",
      "196/196 [==============================] - 97s 493ms/step - loss: 1.0750 - acc: 0.6206\n",
      "Epoch 30/50\n",
      "196/196 [==============================] - 96s 489ms/step - loss: 1.0550 - acc: 0.6273\n",
      "Epoch 31/50\n",
      "196/196 [==============================] - 102s 520ms/step - loss: 1.0402 - acc: 0.6316\n",
      "Epoch 32/50\n",
      "196/196 [==============================] - 106s 541ms/step - loss: 1.0268 - acc: 0.6370\n",
      "Epoch 33/50\n",
      "196/196 [==============================] - 96s 488ms/step - loss: 1.0177 - acc: 0.6403\n",
      "Epoch 34/50\n",
      "196/196 [==============================] - 96s 492ms/step - loss: 1.0015 - acc: 0.6460\n",
      "Epoch 35/50\n",
      "196/196 [==============================] - 103s 523ms/step - loss: 0.9892 - acc: 0.6511\n",
      "Epoch 36/50\n",
      "196/196 [==============================] - 104s 532ms/step - loss: 0.9768 - acc: 0.6542\n",
      "Epoch 37/50\n",
      "196/196 [==============================] - 101s 513ms/step - loss: 0.9692 - acc: 0.6577\n",
      "Epoch 38/50\n",
      "196/196 [==============================] - 100s 512ms/step - loss: 0.9546 - acc: 0.6640\n",
      "Epoch 39/50\n",
      "196/196 [==============================] - 98s 498ms/step - loss: 0.9445 - acc: 0.6666\n",
      "Epoch 40/50\n",
      "196/196 [==============================] - 97s 496ms/step - loss: 0.9330 - acc: 0.6746\n",
      "Epoch 41/50\n",
      "196/196 [==============================] - 98s 500ms/step - loss: 0.9222 - acc: 0.6765\n",
      "Epoch 42/50\n",
      "196/196 [==============================] - 97s 494ms/step - loss: 0.9180 - acc: 0.6772\n",
      "Epoch 43/50\n",
      "196/196 [==============================] - 97s 495ms/step - loss: 0.9011 - acc: 0.6823\n",
      "Epoch 44/50\n",
      "196/196 [==============================] - 98s 499ms/step - loss: 0.8963 - acc: 0.6860\n",
      "Epoch 45/50\n",
      "196/196 [==============================] - 101s 517ms/step - loss: 0.8845 - acc: 0.6907\n",
      "Epoch 46/50\n",
      "196/196 [==============================] - 103s 525ms/step - loss: 0.8776 - acc: 0.6914\n",
      "Epoch 47/50\n",
      "196/196 [==============================] - 102s 518ms/step - loss: 0.8685 - acc: 0.6941\n",
      "Epoch 48/50\n",
      "196/196 [==============================] - 109s 554ms/step - loss: 0.8575 - acc: 0.6987\n",
      "Epoch 49/50\n",
      "196/196 [==============================] - 99s 506ms/step - loss: 0.8489 - acc: 0.7008\n",
      "Epoch 50/50\n",
      "196/196 [==============================] - 102s 518ms/step - loss: 0.8394 - acc: 0.7051\n"
     ]
    }
   ],
   "source": [
    "history = model.fit(x_train, y_train, batch_size=batch_size,\n",
    "                    epochs=epochs)\n"
   ]
  },
  {
   "cell_type": "code",
   "execution_count": 12,
   "metadata": {},
   "outputs": [
    {
     "data": {
      "image/png": "[encoded data removed]",
      "text/plain": [
       "<Figure size 432x288 with 2 Axes>"
      ]
     },
     "metadata": {
      "needs_background": "light"
     },
     "output_type": "display_data"
    }
   ],
   "source": [
    "fig, ax = plt.subplots(2,1)\n",
    "ax[0].plot(history.history['loss'], color='b', label=\"Training Loss\")\n",
    "legend = ax[0].legend(loc='best', shadow=True)\n",
    "\n",
    "ax[1].plot(history.history['acc'], color='b', label=\"Training Accuracy\")\n",
    "legend = ax[1].legend(loc='best', shadow=True)"
   ]
  },
  {
   "cell_type": "markdown",
   "metadata": {},
   "source": [
    "testing the model"
   ]
  },
  {
   "cell_type": "code",
   "execution_count": 13,
   "metadata": {},
   "outputs": [
    {
     "name": "stdout",
     "output_type": "stream",
     "text": [
      "WARNING:tensorflow:AutoGraph could not transform <function Model.make_test_function.<locals>.test_function at 0x7fc40284c378> and will run it as-is.\n",
      "Please report this to the TensorFlow team. When filing the bug, set the verbosity to 10 (on Linux, `export AUTOGRAPH_VERBOSITY=10`) and attach the full output.\n",
      "Cause: 'arguments' object has no attribute 'posonlyargs'\n",
      "To silence this warning, decorate the function with @tf.autograph.experimental.do_not_convert\n",
      "WARNING: AutoGraph could not transform <function Model.make_test_function.<locals>.test_function at 0x7fc40284c378> and will run it as-is.\n",
      "Please report this to the TensorFlow team. When filing the bug, set the verbosity to 10 (on Linux, `export AUTOGRAPH_VERBOSITY=10`) and attach the full output.\n",
      "Cause: 'arguments' object has no attribute 'posonlyargs'\n",
      "To silence this warning, decorate the function with @tf.autograph.experimental.do_not_convert\n",
      "313/313 [==============================] - 7s 20ms/step - loss: 0.8206 - acc: 0.7124\n"
     ]
    }
   ],
   "source": [
    "test_loss, test_acc = model.evaluate(x_test, y_test)\n"
   ]
  },
  {
   "cell_type": "code",
   "execution_count": 14,
   "metadata": {},
   "outputs": [
    {
     "name": "stdout",
     "output_type": "stream",
     "text": [
      "WARNING:tensorflow:AutoGraph could not transform <function Model.make_predict_function.<locals>.predict_function at 0x7fc402a1bb70> and will run it as-is.\n",
      "Please report this to the TensorFlow team. When filing the bug, set the verbosity to 10 (on Linux, `export AUTOGRAPH_VERBOSITY=10`) and attach the full output.\n",
      "Cause: 'arguments' object has no attribute 'posonlyargs'\n",
      "To silence this warning, decorate the function with @tf.autograph.experimental.do_not_convert\n",
      "WARNING: AutoGraph could not transform <function Model.make_predict_function.<locals>.predict_function at 0x7fc402a1bb70> and will run it as-is.\n",
      "Please report this to the TensorFlow team. When filing the bug, set the verbosity to 10 (on Linux, `export AUTOGRAPH_VERBOSITY=10`) and attach the full output.\n",
      "Cause: 'arguments' object has no attribute 'posonlyargs'\n",
      "To silence this warning, decorate the function with @tf.autograph.experimental.do_not_convert\n"
     ]
    }
   ],
   "source": [
    "# Predict the values from the validation dataset\n",
    "y_pred = model.predict(x_test)\n",
    "# Convert predictions classes to one hot vectors \n",
    "y_pred_classes = np.argmax(y_pred,axis = 1) \n",
    "# Convert validation observations to one hot vectors\n",
    "y_true = np.argmax(y_test,axis = 1)\n",
    "# compute the confusion matrix\n",
    "confusion_mtx = tf.math.confusion_matrix(y_true, y_pred_classes)"
   ]
  },
  {
   "cell_type": "code",
   "execution_count": 15,
   "metadata": {},
   "outputs": [
    {
     "data": {
      "text/plain": [
       "[[Text(0, 0.5, 'airplane'),\n",
       "  Text(0, 1.5, 'automobile'),\n",
       "  Text(0, 2.5, 'bird'),\n",
       "  Text(0, 3.5, 'cat'),\n",
       "  Text(0, 4.5, 'deer'),\n",
       "  Text(0, 5.5, 'dog'),\n",
       "  Text(0, 6.5, 'frog'),\n",
       "  Text(0, 7.5, 'horse'),\n",
       "  Text(0, 8.5, 'ship'),\n",
       "  Text(0, 9.5, 'truck')],\n",
       " [Text(0.5, 0, 'airplane'),\n",
       "  Text(1.5, 0, 'automobile'),\n",
       "  Text(2.5, 0, 'bird'),\n",
       "  Text(3.5, 0, 'cat'),\n",
       "  Text(4.5, 0, 'deer'),\n",
       "  Text(5.5, 0, 'dog'),\n",
       "  Text(6.5, 0, 'frog'),\n",
       "  Text(7.5, 0, 'horse'),\n",
       "  Text(8.5, 0, 'ship'),\n",
       "  Text(9.5, 0, 'truck')]]"
      ]
     },
     "execution_count": 15,
     "metadata": {},
     "output_type": "execute_result"
    },
    {
     "data": {
      "image/png": "[encoded data removed]",
      "text/plain": [
       "<Figure size 864x648 with 2 Axes>"
      ]
     },
     "metadata": {
      "needs_background": "light"
     },
     "output_type": "display_data"
    }
   ],
   "source": [
    "plt.figure(figsize=(12, 9))\n",
    "c = sns.heatmap(confusion_mtx, annot=True, fmt='g')\n",
    "c.set(xticklabels=classes, yticklabels=classes)"
   ]
  }
 ],
 "metadata": {
  "kernelspec": {
   "display_name": "Python 3",
   "language": "python",
   "name": "python3"
  },
  "language_info": {
   "codemirror_mode": {
    "name": "ipython",
    "version": 3
   },
   "file_extension": ".py",
   "mimetype": "text/x-python",
   "name": "python",
   "nbconvert_exporter": "python",
   "pygments_lexer": "ipython3",
   "version": "3.7.3"
  }
 },
 "nbformat": 4,
 "nbformat_minor": 2
}
